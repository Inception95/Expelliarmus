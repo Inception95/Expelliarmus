{
 "cells": [
  {
   "cell_type": "code",
   "execution_count": null,
   "metadata": {},
   "outputs": [],
   "source": []
  },
  {
   "cell_type": "code",
   "execution_count": 12,
   "metadata": {},
   "outputs": [
    {
     "name": "stdout",
     "output_type": "stream",
     "text": [
      "here\n",
      "Hello, this is before function execution\n",
      "This is inside the function !!\n",
      "This is after function execution\n",
      "Hello, this is before function execution\n",
      "This is inside the function !!\n",
      "This is after function execution\n"
     ]
    }
   ],
   "source": [
    "def hello_decorator(func):\n",
    "    \n",
    "    def inner1():\n",
    "        print(\"Hello, this is before function execution\")\n",
    "        \n",
    "        func()\n",
    "        \n",
    "        print(\"This is after function execution\")\n",
    "        \n",
    "    print(\"here\")\n",
    "    return inner1\n",
    "\n",
    "def function_to_be_used():\n",
    "    print(\"This is inside the function !!\")\n",
    "    \n",
    "function_to_be_used = hello_decorator(function_to_be_used)\n",
    "#hello_decorator(function_to_be_used)\n",
    "\n",
    "function_to_be_used()\n",
    "function_to_be_used()"
   ]
  },
  {
   "cell_type": "code",
   "execution_count": 10,
   "metadata": {},
   "outputs": [
    {
     "name": "stdout",
     "output_type": "stream",
     "text": [
      "here\n",
      "t\n",
      "countdown 0.011999368667602539\n",
      "t\n",
      "countdown 0.0030083656311035156\n"
     ]
    }
   ],
   "source": [
    "import time\n",
    "\n",
    "def timeis(func):\n",
    "    \n",
    "    def wrap(*args, **kwargs):\n",
    "        start = time.time()\n",
    "        result = func(*args, **kwargs)\n",
    "        end = time.time()\n",
    "        \n",
    "        print(func.__name__, end-start)\n",
    "        return result\n",
    "    print(\"here\")\n",
    "    return wrap\n",
    "\n",
    "@timeis\n",
    "def countdown(n):\n",
    "    \n",
    "    print(\"t\")\n",
    "    \n",
    "    while n> 0:\n",
    "        n -= 1\n",
    "        \n",
    "countdown(50000)\n",
    "countdown(10000)"
   ]
  },
  {
   "cell_type": "code",
   "execution_count": null,
   "metadata": {},
   "outputs": [],
   "source": []
  }
 ],
 "metadata": {
  "kernelspec": {
   "display_name": "Python 3",
   "language": "python",
   "name": "python3"
  },
  "language_info": {
   "codemirror_mode": {
    "name": "ipython",
    "version": 3
   },
   "file_extension": ".py",
   "mimetype": "text/x-python",
   "name": "python",
   "nbconvert_exporter": "python",
   "pygments_lexer": "ipython3",
   "version": "3.7.3"
  }
 },
 "nbformat": 4,
 "nbformat_minor": 2
}
